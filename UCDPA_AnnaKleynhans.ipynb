{
 "cells": [
  {
   "cell_type": "code",
   "execution_count": 8,
   "id": "d549ac70",
   "metadata": {},
   "outputs": [],
   "source": [
    "#import necessary libraries for the execution of the project\n",
    "import numpy as np\n",
    "import pandas as pd\n",
    "import matplotlib.pyplot as plt\n",
    "import seaborn as sns"
   ]
  },
  {
   "cell_type": "code",
   "execution_count": 6,
   "id": "18fdbf77",
   "metadata": {},
   "outputs": [],
   "source": [
    "# 2a Importing - import data from a flat file (csv) and create a dataframe\n",
    "uci_bike_rentals = pd.read_csv('uci_bike_rentals.csv')"
   ]
  },
  {
   "cell_type": "code",
   "execution_count": 7,
   "id": "1f1a474a",
   "metadata": {
    "scrolled": true
   },
   "outputs": [
    {
     "data": {
      "text/html": [
       "<div>\n",
       "<style scoped>\n",
       "    .dataframe tbody tr th:only-of-type {\n",
       "        vertical-align: middle;\n",
       "    }\n",
       "\n",
       "    .dataframe tbody tr th {\n",
       "        vertical-align: top;\n",
       "    }\n",
       "\n",
       "    .dataframe thead th {\n",
       "        text-align: right;\n",
       "    }\n",
       "</style>\n",
       "<table border=\"1\" class=\"dataframe\">\n",
       "  <thead>\n",
       "    <tr style=\"text-align: right;\">\n",
       "      <th></th>\n",
       "      <th>id</th>\n",
       "      <th>year</th>\n",
       "      <th>hour</th>\n",
       "      <th>season</th>\n",
       "      <th>holiday</th>\n",
       "      <th>workingday</th>\n",
       "      <th>weather</th>\n",
       "      <th>temp</th>\n",
       "      <th>atemp</th>\n",
       "      <th>humidity</th>\n",
       "      <th>windspeed</th>\n",
       "      <th>count</th>\n",
       "    </tr>\n",
       "  </thead>\n",
       "  <tbody>\n",
       "    <tr>\n",
       "      <th>0</th>\n",
       "      <td>3</td>\n",
       "      <td>2012</td>\n",
       "      <td>23</td>\n",
       "      <td>3</td>\n",
       "      <td>0</td>\n",
       "      <td>0</td>\n",
       "      <td>2</td>\n",
       "      <td>23.78</td>\n",
       "      <td>27.275</td>\n",
       "      <td>73</td>\n",
       "      <td>11.0014</td>\n",
       "      <td>133</td>\n",
       "    </tr>\n",
       "    <tr>\n",
       "      <th>1</th>\n",
       "      <td>4</td>\n",
       "      <td>2011</td>\n",
       "      <td>8</td>\n",
       "      <td>3</td>\n",
       "      <td>0</td>\n",
       "      <td>0</td>\n",
       "      <td>1</td>\n",
       "      <td>27.88</td>\n",
       "      <td>31.820</td>\n",
       "      <td>57</td>\n",
       "      <td>0.0000</td>\n",
       "      <td>132</td>\n",
       "    </tr>\n",
       "    <tr>\n",
       "      <th>2</th>\n",
       "      <td>5</td>\n",
       "      <td>2012</td>\n",
       "      <td>2</td>\n",
       "      <td>1</td>\n",
       "      <td>0</td>\n",
       "      <td>1</td>\n",
       "      <td>1</td>\n",
       "      <td>20.50</td>\n",
       "      <td>24.240</td>\n",
       "      <td>59</td>\n",
       "      <td>0.0000</td>\n",
       "      <td>19</td>\n",
       "    </tr>\n",
       "    <tr>\n",
       "      <th>3</th>\n",
       "      <td>7</td>\n",
       "      <td>2011</td>\n",
       "      <td>20</td>\n",
       "      <td>3</td>\n",
       "      <td>0</td>\n",
       "      <td>1</td>\n",
       "      <td>3</td>\n",
       "      <td>25.42</td>\n",
       "      <td>28.790</td>\n",
       "      <td>83</td>\n",
       "      <td>19.9995</td>\n",
       "      <td>58</td>\n",
       "    </tr>\n",
       "    <tr>\n",
       "      <th>4</th>\n",
       "      <td>8</td>\n",
       "      <td>2011</td>\n",
       "      <td>17</td>\n",
       "      <td>3</td>\n",
       "      <td>0</td>\n",
       "      <td>1</td>\n",
       "      <td>3</td>\n",
       "      <td>26.24</td>\n",
       "      <td>28.790</td>\n",
       "      <td>89</td>\n",
       "      <td>0.0000</td>\n",
       "      <td>285</td>\n",
       "    </tr>\n",
       "  </tbody>\n",
       "</table>\n",
       "</div>"
      ],
      "text/plain": [
       "   id  year  hour  season  holiday  workingday  weather   temp   atemp  \\\n",
       "0   3  2012    23       3        0           0        2  23.78  27.275   \n",
       "1   4  2011     8       3        0           0        1  27.88  31.820   \n",
       "2   5  2012     2       1        0           1        1  20.50  24.240   \n",
       "3   7  2011    20       3        0           1        3  25.42  28.790   \n",
       "4   8  2011    17       3        0           1        3  26.24  28.790   \n",
       "\n",
       "   humidity  windspeed  count  \n",
       "0        73    11.0014    133  \n",
       "1        57     0.0000    132  \n",
       "2        59     0.0000     19  \n",
       "3        83    19.9995     58  \n",
       "4        89     0.0000    285  "
      ]
     },
     "execution_count": 7,
     "metadata": {},
     "output_type": "execute_result"
    }
   ],
   "source": [
    "#Understand data sample using df.head()\n",
    "uci_bike_rentals.head(5)"
   ]
  },
  {
   "cell_type": "code",
   "execution_count": 36,
   "id": "3c67adde",
   "metadata": {},
   "outputs": [
    {
     "name": "stdout",
     "output_type": "stream",
     "text": [
      "200\n"
     ]
    }
   ],
   "source": [
    "#2b Importing data using API - Step 1 Successfully connect to website using GET request\n",
    "import requests\n",
    "\n",
    "dublin_bikes = requests.get('https://www.dublinbikes.ie/en/home')\n",
    "print(dublin_bikes.status_code)"
   ]
  },
  {
   "cell_type": "code",
   "execution_count": 44,
   "id": "04e98ed6",
   "metadata": {},
   "outputs": [
    {
     "name": "stdout",
     "output_type": "stream",
     "text": [
      "dict_keys(['openapi', 'servers', 'info', 'paths', 'components', 'tags'])\n",
      "openapi:  3.0.2\n",
      "servers:  [{'url': 'https://data.smartdublin.ie/dublinbikes-api'}]\n",
      "info:  {'title': 'SmartDublin Dublinbikes API', 'description': \"This is the API associated with [SmartDublin's Dublinbikes Api dataset](https://data.smartdublin.ie/dataset/dublinbikes-api). Dublinbikes is a bike share scheme in operation in Dublin City. Bicycles may be rented from and returned to designated cycle stations. There are also rollups of historic bike stations data (30 minutes granularity) available as downloadable CSV resources.\", 'version': '0.1.0'}\n",
      "paths:  {'/last_snapshot/': {'get': {'tags': ['Last Snapshot'], 'summary': 'Last Snapshot', 'description': 'Fetch the last status for every Dublinbikes Station\\n\\nFields:\\n\\n- **id**: Unique record id\\n- **harvest_time**: Data retrieval timestamp\\n- **station_id**: Unique station id\\n- **available_bike_stands**: Available bike stands\\n- **bike_stands**: Total bike stands\\n- **available_bikes**: Available bikes\\n- **banking**:\\n- **bonus**:\\n- **last_update**: Last updated time\\n- **status**:\\n- **address**: Station address\\n- **name**: Station name\\n- **latitude**: Station latitude\\n- **longitude**: Station longitude', 'operationId': 'last_snapshot_last_snapshot__get', 'responses': {'201': {'description': 'Successful Response', 'content': {'application/json': {'schema': {'title': 'Response Last Snapshot Last Snapshot  Get', 'type': 'array', 'items': {'$ref': '#/components/schemas/Readings'}}}}}}}}, '/historical/': {'get': {'tags': ['Historical records'], 'summary': 'Historical', 'description': 'Fetch a 1 hour historical report of every Dublinbikes Station (5 minutes granularity)\\n\\nFields:\\n\\n- **id**: Unique record id\\n- **harvest_time**: Data retrieval timestamp\\n- **station_id**: Unique station id\\n- **available_bike_stands**: Available bike stands\\n- **bike_stands**: Total bike stands\\n- **available_bikes**: Available bikes\\n- **banking**:\\n- **bonus**:\\n- **last_update**: Last updated time\\n- **status**:\\n- **address**: Station address\\n- **name**: Station name\\n- **latitude**: Station latitude\\n- **longitude**: Station longitude', 'operationId': 'historical_historical__get', 'parameters': [{'description': 'Initial datetime: YYYY-MM-DD HH:mm:SS \\nIf the datetime is not valid, the input box will flash in red', 'required': False, 'schema': {'title': 'Initial datetime', 'type': 'string', 'description': 'Initial datetime: YYYY-MM-DD HH:mm:SS \\nIf the datetime is not valid, the input box will flash in red', 'format': 'date-time', 'default': '2021-04-13 17:00:00'}, 'name': 'init', 'in': 'query'}], 'responses': {'201': {'description': 'Successful Response', 'content': {'application/json': {'schema': {'title': 'Response Historical Historical  Get', 'type': 'array', 'items': {'$ref': '#/components/schemas/Readings'}}}}}, '422': {'description': 'Validation Error', 'content': {'application/json': {'schema': {'$ref': '#/components/schemas/HTTPValidationError'}}}}}}}}\n",
      "components:  {'schemas': {'HTTPValidationError': {'title': 'HTTPValidationError', 'type': 'object', 'properties': {'detail': {'title': 'Detail', 'type': 'array', 'items': {'$ref': '#/components/schemas/ValidationError'}}}}, 'Readings': {'title': 'Readings', 'required': ['id', 'harvest_time', 'station_id', 'available_bike_stands', 'bike_stands', 'available_bikes', 'banking', 'bonus', 'last_update', 'status', 'address', 'name', 'latitude', 'longitude'], 'type': 'object', 'properties': {'id': {'title': 'Id', 'type': 'integer'}, 'harvest_time': {'title': 'Harvest Time', 'type': 'string', 'format': 'date-time'}, 'station_id': {'title': 'Station Id', 'type': 'integer'}, 'available_bike_stands': {'title': 'Available Bike Stands', 'type': 'integer'}, 'bike_stands': {'title': 'Bike Stands', 'type': 'integer'}, 'available_bikes': {'title': 'Available Bikes', 'type': 'integer'}, 'banking': {'title': 'Banking', 'type': 'boolean'}, 'bonus': {'title': 'Bonus', 'type': 'boolean'}, 'last_update': {'title': 'Last Update', 'type': 'string', 'format': 'date-time'}, 'status': {'title': 'Status', 'type': 'string'}, 'address': {'title': 'Address', 'type': 'string'}, 'name': {'title': 'Name', 'type': 'string'}, 'latitude': {'title': 'Latitude', 'type': 'string'}, 'longitude': {'title': 'Longitude', 'type': 'string'}}}, 'ValidationError': {'title': 'ValidationError', 'required': ['loc', 'msg', 'type'], 'type': 'object', 'properties': {'loc': {'title': 'Location', 'type': 'array', 'items': {'type': 'string'}}, 'msg': {'title': 'Message', 'type': 'string'}, 'type': {'title': 'Error Type', 'type': 'string'}}}}}\n",
      "tags:  [{'name': 'Last Snapshot', 'description': 'Fetch the last status for every Dublinbikes Station'}, {'name': 'Historical records', 'description': 'Fetch a 1 hour historical report of every Dublinbikes Station (5 minutes granularity)'}]\n"
     ]
    }
   ],
   "source": [
    "#2b - Importing data using API - Step 1 Read data from JSON\n",
    "import requests\n",
    "dublin_bikes = requests.get('https://data.smartdublin.ie/dublinbikes-openapi.json')\n",
    "json_data = dublin_bikes.json()\n",
    "print(json_data.keys())\n",
    "for k in json_data.keys():\n",
    "    print(k + ': ', json_data[k])"
   ]
  },
  {
   "cell_type": "code",
   "execution_count": 61,
   "id": "8d38b436",
   "metadata": {},
   "outputs": [
    {
     "data": {
      "text/plain": [
       "[{'name': 'Last Snapshot',\n",
       "  'description': 'Fetch the last status for every Dublinbikes Station'},\n",
       " {'name': 'Historical records',\n",
       "  'description': 'Fetch a 1 hour historical report of every Dublinbikes Station (5 minutes granularity)'}]"
      ]
     },
     "execution_count": 61,
     "metadata": {},
     "output_type": "execute_result"
    }
   ],
   "source": [
    "#2b - Extract some data from Json - key value pair (tags)\n",
    "json_data['tags']\n"
   ]
  },
  {
   "cell_type": "code",
   "execution_count": 62,
   "id": "85b69d3b",
   "metadata": {},
   "outputs": [
    {
     "name": "stdout",
     "output_type": "stream",
     "text": [
      "                 name                                        description\n",
      "0       Last Snapshot  Fetch the last status for every Dublinbikes St...\n",
      "1  Historical records  Fetch a 1 hour historical report of every Dubl...\n"
     ]
    }
   ],
   "source": [
    "#2b - Create a dictionary variable and convert a list of dictionaries into dataframe\n",
    "tags_dict = [{'name': 'Last Snapshot',\n",
    "  'description': 'Fetch the last status for every Dublinbikes Station'},\n",
    " {'name': 'Historical records',\n",
    "  'description': 'Fetch a 1 hour historical report of every Dublinbikes Station (5 minutes granularity)'}]\n",
    "bike_station = pd.DataFrame(tags_dict)\n",
    "print(bike_station)"
   ]
  },
  {
   "cell_type": "code",
   "execution_count": null,
   "id": "5ac49929",
   "metadata": {},
   "outputs": [],
   "source": []
  }
 ],
 "metadata": {
  "kernelspec": {
   "display_name": "Python 3",
   "language": "python",
   "name": "python3"
  },
  "language_info": {
   "codemirror_mode": {
    "name": "ipython",
    "version": 3
   },
   "file_extension": ".py",
   "mimetype": "text/x-python",
   "name": "python",
   "nbconvert_exporter": "python",
   "pygments_lexer": "ipython3",
   "version": "3.8.8"
  }
 },
 "nbformat": 4,
 "nbformat_minor": 5
}
