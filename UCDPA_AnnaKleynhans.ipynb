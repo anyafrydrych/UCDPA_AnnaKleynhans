{
 "cells": [
  {
   "cell_type": "code",
   "execution_count": 65,
   "id": "d549ac70",
   "metadata": {},
   "outputs": [],
   "source": [
    "#import necessary libraries for the execution of the project\n",
    "import numpy as np\n",
    "import pandas as pd\n",
    "import matplotlib.pyplot as plt\n",
    "import seaborn as sns"
   ]
  },
  {
   "cell_type": "code",
   "execution_count": 66,
   "id": "18fdbf77",
   "metadata": {},
   "outputs": [],
   "source": [
    "# 2a Importing - import data from a flat file (csv) and create a dataframe - project dataset\n",
    "uci_bike_rentals = pd.read_csv('uci_bike_rentals.csv')"
   ]
  },
  {
   "cell_type": "code",
   "execution_count": 67,
   "id": "3c67adde",
   "metadata": {},
   "outputs": [
    {
     "name": "stdout",
     "output_type": "stream",
     "text": [
      "200\n"
     ]
    }
   ],
   "source": [
    "#2b Sample data set from Dublin Bikes - Demonstrate importing data using API - Step 1 Successfully connect to website using GET request\n",
    "import requests\n",
    "\n",
    "dublin_bikes = requests.get('https://www.dublinbikes.ie/en/home')\n",
    "print(dublin_bikes.status_code)"
   ]
  },
  {
   "cell_type": "code",
   "execution_count": 68,
   "id": "f64572c9",
   "metadata": {},
   "outputs": [
    {
     "name": "stdout",
     "output_type": "stream",
     "text": [
      "dict_keys(['openapi', 'servers', 'info', 'paths', 'components', 'tags'])\n",
      "openapi:  3.0.2\n",
      "servers:  [{'url': 'https://data.smartdublin.ie/dublinbikes-api'}]\n",
      "info:  {'title': 'SmartDublin Dublinbikes API', 'description': \"This is the API associated with [SmartDublin's Dublinbikes Api dataset](https://data.smartdublin.ie/dataset/dublinbikes-api). Dublinbikes is a bike share scheme in operation in Dublin City. Bicycles may be rented from and returned to designated cycle stations. There are also rollups of historic bike stations data (30 minutes granularity) available as downloadable CSV resources.\", 'version': '0.1.0'}\n",
      "paths:  {'/last_snapshot/': {'get': {'tags': ['Last Snapshot'], 'summary': 'Last Snapshot', 'description': 'Fetch the last status for every Dublinbikes Station\\n\\nFields:\\n\\n- **id**: Unique record id\\n- **harvest_time**: Data retrieval timestamp\\n- **station_id**: Unique station id\\n- **available_bike_stands**: Available bike stands\\n- **bike_stands**: Total bike stands\\n- **available_bikes**: Available bikes\\n- **banking**:\\n- **bonus**:\\n- **last_update**: Last updated time\\n- **status**:\\n- **address**: Station address\\n- **name**: Station name\\n- **latitude**: Station latitude\\n- **longitude**: Station longitude', 'operationId': 'last_snapshot_last_snapshot__get', 'responses': {'201': {'description': 'Successful Response', 'content': {'application/json': {'schema': {'title': 'Response Last Snapshot Last Snapshot  Get', 'type': 'array', 'items': {'$ref': '#/components/schemas/Readings'}}}}}}}}, '/historical/': {'get': {'tags': ['Historical records'], 'summary': 'Historical', 'description': 'Fetch a 1 hour historical report of every Dublinbikes Station (5 minutes granularity)\\n\\nFields:\\n\\n- **id**: Unique record id\\n- **harvest_time**: Data retrieval timestamp\\n- **station_id**: Unique station id\\n- **available_bike_stands**: Available bike stands\\n- **bike_stands**: Total bike stands\\n- **available_bikes**: Available bikes\\n- **banking**:\\n- **bonus**:\\n- **last_update**: Last updated time\\n- **status**:\\n- **address**: Station address\\n- **name**: Station name\\n- **latitude**: Station latitude\\n- **longitude**: Station longitude', 'operationId': 'historical_historical__get', 'parameters': [{'description': 'Initial datetime: YYYY-MM-DD HH:mm:SS \\nIf the datetime is not valid, the input box will flash in red', 'required': False, 'schema': {'title': 'Initial datetime', 'type': 'string', 'description': 'Initial datetime: YYYY-MM-DD HH:mm:SS \\nIf the datetime is not valid, the input box will flash in red', 'format': 'date-time', 'default': '2021-04-13 17:00:00'}, 'name': 'init', 'in': 'query'}], 'responses': {'201': {'description': 'Successful Response', 'content': {'application/json': {'schema': {'title': 'Response Historical Historical  Get', 'type': 'array', 'items': {'$ref': '#/components/schemas/Readings'}}}}}, '422': {'description': 'Validation Error', 'content': {'application/json': {'schema': {'$ref': '#/components/schemas/HTTPValidationError'}}}}}}}}\n",
      "components:  {'schemas': {'HTTPValidationError': {'title': 'HTTPValidationError', 'type': 'object', 'properties': {'detail': {'title': 'Detail', 'type': 'array', 'items': {'$ref': '#/components/schemas/ValidationError'}}}}, 'Readings': {'title': 'Readings', 'required': ['id', 'harvest_time', 'station_id', 'available_bike_stands', 'bike_stands', 'available_bikes', 'banking', 'bonus', 'last_update', 'status', 'address', 'name', 'latitude', 'longitude'], 'type': 'object', 'properties': {'id': {'title': 'Id', 'type': 'integer'}, 'harvest_time': {'title': 'Harvest Time', 'type': 'string', 'format': 'date-time'}, 'station_id': {'title': 'Station Id', 'type': 'integer'}, 'available_bike_stands': {'title': 'Available Bike Stands', 'type': 'integer'}, 'bike_stands': {'title': 'Bike Stands', 'type': 'integer'}, 'available_bikes': {'title': 'Available Bikes', 'type': 'integer'}, 'banking': {'title': 'Banking', 'type': 'boolean'}, 'bonus': {'title': 'Bonus', 'type': 'boolean'}, 'last_update': {'title': 'Last Update', 'type': 'string', 'format': 'date-time'}, 'status': {'title': 'Status', 'type': 'string'}, 'address': {'title': 'Address', 'type': 'string'}, 'name': {'title': 'Name', 'type': 'string'}, 'latitude': {'title': 'Latitude', 'type': 'string'}, 'longitude': {'title': 'Longitude', 'type': 'string'}}}, 'ValidationError': {'title': 'ValidationError', 'required': ['loc', 'msg', 'type'], 'type': 'object', 'properties': {'loc': {'title': 'Location', 'type': 'array', 'items': {'type': 'string'}}, 'msg': {'title': 'Message', 'type': 'string'}, 'type': {'title': 'Error Type', 'type': 'string'}}}}}\n",
      "tags:  [{'name': 'Last Snapshot', 'description': 'Fetch the last status for every Dublinbikes Station'}, {'name': 'Historical records', 'description': 'Fetch a 1 hour historical report of every Dublinbikes Station (5 minutes granularity)'}]\n"
     ]
    }
   ],
   "source": [
    "#2b - Importing data using API - Step 1 Read data from JSON\n",
    "import requests\n",
    "dublin_bikes = requests.get('https://data.smartdublin.ie/dublinbikes-openapi.json')\n",
    "json_data = dublin_bikes.json()\n",
    "print(json_data.keys())\n",
    "for k in json_data.keys():\n",
    "    print(k + ': ', json_data[k])"
   ]
  },
  {
   "cell_type": "code",
   "execution_count": 69,
   "id": "a335ee71",
   "metadata": {},
   "outputs": [
    {
     "data": {
      "text/plain": [
       "[{'name': 'Last Snapshot',\n",
       "  'description': 'Fetch the last status for every Dublinbikes Station'},\n",
       " {'name': 'Historical records',\n",
       "  'description': 'Fetch a 1 hour historical report of every Dublinbikes Station (5 minutes granularity)'}]"
      ]
     },
     "execution_count": 69,
     "metadata": {},
     "output_type": "execute_result"
    }
   ],
   "source": [
    "#2b - Extract a sample key (tags)\n",
    "json_data['tags']\n"
   ]
  },
  {
   "cell_type": "code",
   "execution_count": 70,
   "id": "03bd8944",
   "metadata": {
    "scrolled": true
   },
   "outputs": [
    {
     "name": "stdout",
     "output_type": "stream",
     "text": [
      "                 name                                        description\n",
      "0       Last Snapshot  Fetch the last status for every Dublinbikes St...\n",
      "1  Historical records  Fetch a 1 hour historical report of every Dubl...\n"
     ]
    }
   ],
   "source": [
    "#2b - Create a list of dictionaries variable and convert it into dataframe\n",
    "tags_dict = [{'name': 'Last Snapshot',\n",
    "  'description': 'Fetch the last status for every Dublinbikes Station'},\n",
    " {'name': 'Historical records',\n",
    "  'description': 'Fetch a 1 hour historical report of every Dublinbikes Station (5 minutes granularity)'}]\n",
    "bike_station = pd.DataFrame(tags_dict)\n",
    "print(bike_station)"
   ]
  },
  {
   "cell_type": "code",
   "execution_count": 73,
   "id": "4e679452",
   "metadata": {
    "scrolled": true
   },
   "outputs": [
    {
     "data": {
      "text/html": [
       "<div>\n",
       "<style scoped>\n",
       "    .dataframe tbody tr th:only-of-type {\n",
       "        vertical-align: middle;\n",
       "    }\n",
       "\n",
       "    .dataframe tbody tr th {\n",
       "        vertical-align: top;\n",
       "    }\n",
       "\n",
       "    .dataframe thead th {\n",
       "        text-align: right;\n",
       "    }\n",
       "</style>\n",
       "<table border=\"1\" class=\"dataframe\">\n",
       "  <thead>\n",
       "    <tr style=\"text-align: right;\">\n",
       "      <th></th>\n",
       "      <th>id</th>\n",
       "      <th>year</th>\n",
       "      <th>hour</th>\n",
       "      <th>season</th>\n",
       "      <th>holiday</th>\n",
       "      <th>workingday</th>\n",
       "      <th>weather</th>\n",
       "      <th>temp</th>\n",
       "      <th>atemp</th>\n",
       "      <th>humidity</th>\n",
       "      <th>windspeed</th>\n",
       "      <th>count</th>\n",
       "    </tr>\n",
       "  </thead>\n",
       "  <tbody>\n",
       "    <tr>\n",
       "      <th>0</th>\n",
       "      <td>3</td>\n",
       "      <td>2012</td>\n",
       "      <td>23</td>\n",
       "      <td>3</td>\n",
       "      <td>0</td>\n",
       "      <td>0</td>\n",
       "      <td>2</td>\n",
       "      <td>23.78</td>\n",
       "      <td>27.275</td>\n",
       "      <td>73</td>\n",
       "      <td>11.0014</td>\n",
       "      <td>133</td>\n",
       "    </tr>\n",
       "    <tr>\n",
       "      <th>1</th>\n",
       "      <td>4</td>\n",
       "      <td>2011</td>\n",
       "      <td>8</td>\n",
       "      <td>3</td>\n",
       "      <td>0</td>\n",
       "      <td>0</td>\n",
       "      <td>1</td>\n",
       "      <td>27.88</td>\n",
       "      <td>31.820</td>\n",
       "      <td>57</td>\n",
       "      <td>0.0000</td>\n",
       "      <td>132</td>\n",
       "    </tr>\n",
       "    <tr>\n",
       "      <th>2</th>\n",
       "      <td>5</td>\n",
       "      <td>2012</td>\n",
       "      <td>2</td>\n",
       "      <td>1</td>\n",
       "      <td>0</td>\n",
       "      <td>1</td>\n",
       "      <td>1</td>\n",
       "      <td>20.50</td>\n",
       "      <td>24.240</td>\n",
       "      <td>59</td>\n",
       "      <td>0.0000</td>\n",
       "      <td>19</td>\n",
       "    </tr>\n",
       "    <tr>\n",
       "      <th>3</th>\n",
       "      <td>7</td>\n",
       "      <td>2011</td>\n",
       "      <td>20</td>\n",
       "      <td>3</td>\n",
       "      <td>0</td>\n",
       "      <td>1</td>\n",
       "      <td>3</td>\n",
       "      <td>25.42</td>\n",
       "      <td>28.790</td>\n",
       "      <td>83</td>\n",
       "      <td>19.9995</td>\n",
       "      <td>58</td>\n",
       "    </tr>\n",
       "    <tr>\n",
       "      <th>4</th>\n",
       "      <td>8</td>\n",
       "      <td>2011</td>\n",
       "      <td>17</td>\n",
       "      <td>3</td>\n",
       "      <td>0</td>\n",
       "      <td>1</td>\n",
       "      <td>3</td>\n",
       "      <td>26.24</td>\n",
       "      <td>28.790</td>\n",
       "      <td>89</td>\n",
       "      <td>0.0000</td>\n",
       "      <td>285</td>\n",
       "    </tr>\n",
       "  </tbody>\n",
       "</table>\n",
       "</div>"
      ],
      "text/plain": [
       "   id  year  hour  season  holiday  workingday  weather   temp   atemp  \\\n",
       "0   3  2012    23       3        0           0        2  23.78  27.275   \n",
       "1   4  2011     8       3        0           0        1  27.88  31.820   \n",
       "2   5  2012     2       1        0           1        1  20.50  24.240   \n",
       "3   7  2011    20       3        0           1        3  25.42  28.790   \n",
       "4   8  2011    17       3        0           1        3  26.24  28.790   \n",
       "\n",
       "   humidity  windspeed  count  \n",
       "0        73    11.0014    133  \n",
       "1        57     0.0000    132  \n",
       "2        59     0.0000     19  \n",
       "3        83    19.9995     58  \n",
       "4        89     0.0000    285  "
      ]
     },
     "execution_count": 73,
     "metadata": {},
     "output_type": "execute_result"
    }
   ],
   "source": [
    "# UCI Bike Rental dataset - Understand data sample using df.head()\n",
    "uci_bike_rentals.head(5)"
   ]
  },
  {
   "cell_type": "code",
   "execution_count": 74,
   "id": "e476c77b",
   "metadata": {},
   "outputs": [
    {
     "data": {
      "text/html": [
       "<div>\n",
       "<style scoped>\n",
       "    .dataframe tbody tr th:only-of-type {\n",
       "        vertical-align: middle;\n",
       "    }\n",
       "\n",
       "    .dataframe tbody tr th {\n",
       "        vertical-align: top;\n",
       "    }\n",
       "\n",
       "    .dataframe thead th {\n",
       "        text-align: right;\n",
       "    }\n",
       "</style>\n",
       "<table border=\"1\" class=\"dataframe\">\n",
       "  <thead>\n",
       "    <tr style=\"text-align: right;\">\n",
       "      <th></th>\n",
       "      <th>id</th>\n",
       "      <th>year</th>\n",
       "      <th>hour</th>\n",
       "      <th>season</th>\n",
       "      <th>holiday</th>\n",
       "      <th>workingday</th>\n",
       "      <th>weather</th>\n",
       "      <th>temp</th>\n",
       "      <th>atemp</th>\n",
       "      <th>humidity</th>\n",
       "      <th>windspeed</th>\n",
       "      <th>count</th>\n",
       "    </tr>\n",
       "  </thead>\n",
       "  <tbody>\n",
       "    <tr>\n",
       "      <th>7684</th>\n",
       "      <td>10882</td>\n",
       "      <td>2012</td>\n",
       "      <td>18</td>\n",
       "      <td>1</td>\n",
       "      <td>0</td>\n",
       "      <td>1</td>\n",
       "      <td>1</td>\n",
       "      <td>13.94</td>\n",
       "      <td>15.150</td>\n",
       "      <td>42</td>\n",
       "      <td>22.0028</td>\n",
       "      <td>457</td>\n",
       "    </tr>\n",
       "    <tr>\n",
       "      <th>7685</th>\n",
       "      <td>10883</td>\n",
       "      <td>2012</td>\n",
       "      <td>3</td>\n",
       "      <td>1</td>\n",
       "      <td>0</td>\n",
       "      <td>1</td>\n",
       "      <td>1</td>\n",
       "      <td>9.02</td>\n",
       "      <td>11.365</td>\n",
       "      <td>51</td>\n",
       "      <td>11.0014</td>\n",
       "      <td>1</td>\n",
       "    </tr>\n",
       "    <tr>\n",
       "      <th>7686</th>\n",
       "      <td>10884</td>\n",
       "      <td>2012</td>\n",
       "      <td>15</td>\n",
       "      <td>2</td>\n",
       "      <td>0</td>\n",
       "      <td>0</td>\n",
       "      <td>1</td>\n",
       "      <td>21.32</td>\n",
       "      <td>25.000</td>\n",
       "      <td>19</td>\n",
       "      <td>27.9993</td>\n",
       "      <td>626</td>\n",
       "    </tr>\n",
       "    <tr>\n",
       "      <th>7687</th>\n",
       "      <td>10885</td>\n",
       "      <td>2011</td>\n",
       "      <td>19</td>\n",
       "      <td>4</td>\n",
       "      <td>0</td>\n",
       "      <td>1</td>\n",
       "      <td>1</td>\n",
       "      <td>12.30</td>\n",
       "      <td>14.395</td>\n",
       "      <td>45</td>\n",
       "      <td>15.0013</td>\n",
       "      <td>217</td>\n",
       "    </tr>\n",
       "    <tr>\n",
       "      <th>7688</th>\n",
       "      <td>10886</td>\n",
       "      <td>2012</td>\n",
       "      <td>21</td>\n",
       "      <td>3</td>\n",
       "      <td>0</td>\n",
       "      <td>1</td>\n",
       "      <td>1</td>\n",
       "      <td>30.34</td>\n",
       "      <td>34.850</td>\n",
       "      <td>66</td>\n",
       "      <td>7.0015</td>\n",
       "      <td>381</td>\n",
       "    </tr>\n",
       "  </tbody>\n",
       "</table>\n",
       "</div>"
      ],
      "text/plain": [
       "         id  year  hour  season  holiday  workingday  weather   temp   atemp  \\\n",
       "7684  10882  2012    18       1        0           1        1  13.94  15.150   \n",
       "7685  10883  2012     3       1        0           1        1   9.02  11.365   \n",
       "7686  10884  2012    15       2        0           0        1  21.32  25.000   \n",
       "7687  10885  2011    19       4        0           1        1  12.30  14.395   \n",
       "7688  10886  2012    21       3        0           1        1  30.34  34.850   \n",
       "\n",
       "      humidity  windspeed  count  \n",
       "7684        42    22.0028    457  \n",
       "7685        51    11.0014      1  \n",
       "7686        19    27.9993    626  \n",
       "7687        45    15.0013    217  \n",
       "7688        66     7.0015    381  "
      ]
     },
     "execution_count": 74,
     "metadata": {},
     "output_type": "execute_result"
    }
   ],
   "source": [
    "# UCI Bike Rental dataset - Understand data sample using df.tail()\n",
    "uci_bike_rentals.tail(5)"
   ]
  },
  {
   "cell_type": "code",
   "execution_count": 75,
   "id": "dc8d4d44",
   "metadata": {},
   "outputs": [
    {
     "name": "stdout",
     "output_type": "stream",
     "text": [
      "<class 'pandas.core.frame.DataFrame'>\n",
      "RangeIndex: 7689 entries, 0 to 7688\n",
      "Data columns (total 12 columns):\n",
      " #   Column      Non-Null Count  Dtype  \n",
      "---  ------      --------------  -----  \n",
      " 0   id          7689 non-null   int64  \n",
      " 1   year        7689 non-null   int64  \n",
      " 2   hour        7689 non-null   int64  \n",
      " 3   season      7689 non-null   int64  \n",
      " 4   holiday     7689 non-null   int64  \n",
      " 5   workingday  7689 non-null   int64  \n",
      " 6   weather     7689 non-null   int64  \n",
      " 7   temp        7689 non-null   float64\n",
      " 8   atemp       7689 non-null   float64\n",
      " 9   humidity    7689 non-null   int64  \n",
      " 10  windspeed   7689 non-null   float64\n",
      " 11  count       7689 non-null   int64  \n",
      "dtypes: float64(3), int64(9)\n",
      "memory usage: 721.0 KB\n"
     ]
    }
   ],
   "source": [
    "# Understand the size of the dataset - rows and columns\n",
    "uci_bike_rentals.info()"
   ]
  },
  {
   "cell_type": "code",
   "execution_count": 85,
   "id": "780eeb28",
   "metadata": {},
   "outputs": [
    {
     "data": {
      "text/plain": [
       "id            False\n",
       "year          False\n",
       "hour          False\n",
       "season        False\n",
       "holiday       False\n",
       "workingday    False\n",
       "weather       False\n",
       "temp          False\n",
       "atemp         False\n",
       "humidity      False\n",
       "windspeed     False\n",
       "count         False\n",
       "dtype: bool"
      ]
     },
     "execution_count": 85,
     "metadata": {},
     "output_type": "execute_result"
    }
   ],
   "source": [
    "# Check dataset for null values - observed no null values\n",
    "uci_bike_rentals.isnull().any()"
   ]
  },
  {
   "cell_type": "code",
   "execution_count": 84,
   "id": "4c67420c",
   "metadata": {},
   "outputs": [
    {
     "name": "stdout",
     "output_type": "stream",
     "text": [
      "(7689, 12) (7689, 12)\n"
     ]
    }
   ],
   "source": [
    "# Drop duplicates - observed no duplicates\n",
    "drop_duplicates = uci_bike_rentals.drop_duplicates()\n",
    "print(uci_bike_rentals.shape, drop_duplicates.shape)"
   ]
  },
  {
   "cell_type": "code",
   "execution_count": 86,
   "id": "613063cd",
   "metadata": {},
   "outputs": [
    {
     "name": "stdout",
     "output_type": "stream",
     "text": [
      "           id    year  hour  season  holiday  workingday  weather   temp  \\\n",
      "0         3.0  2012.0  23.0     3.0      0.0         0.0      2.0  23.78   \n",
      "1         4.0  2011.0   8.0     3.0      0.0         0.0      1.0  27.88   \n",
      "2         5.0  2012.0   2.0     1.0      0.0         1.0      1.0  20.50   \n",
      "3         7.0  2011.0  20.0     3.0      0.0         1.0      3.0  25.42   \n",
      "4         8.0  2011.0  17.0     3.0      0.0         1.0      3.0  26.24   \n",
      "...       ...     ...   ...     ...      ...         ...      ...    ...   \n",
      "7685  10883.0  2012.0   3.0     1.0      0.0         1.0      1.0   9.02   \n",
      "7686  10884.0  2012.0  15.0     2.0      0.0         0.0      1.0  21.32   \n",
      "7687  10885.0  2011.0  19.0     4.0      0.0         1.0      1.0  12.30   \n",
      "7688  10886.0  2012.0  21.0     3.0      0.0         1.0      1.0  30.34   \n",
      "7689  10886.0  2012.0  21.0     3.0      0.0         1.0      1.0  30.34   \n",
      "\n",
      "       atemp  humidity  windspeed  count  \n",
      "0     27.275      73.0    11.0014  133.0  \n",
      "1     31.820      57.0     0.0000  132.0  \n",
      "2     24.240      59.0     0.0000   19.0  \n",
      "3     28.790      83.0    19.9995   58.0  \n",
      "4     28.790      89.0     0.0000  285.0  \n",
      "...      ...       ...        ...    ...  \n",
      "7685  11.365      51.0    11.0014    1.0  \n",
      "7686  25.000      19.0    27.9993  626.0  \n",
      "7687  14.395      45.0    15.0013  217.0  \n",
      "7688  34.850      66.0     7.0015  381.0  \n",
      "7689  34.850      66.0     7.0015  381.0  \n",
      "\n",
      "[7690 rows x 12 columns]\n"
     ]
    }
   ],
   "source": [
    "# Demonstrate 'Remove duplicate rows' \n",
    "# Create a copy of the original dataframe, \n",
    "# Create new row as a dictionary and append\n",
    "uci_bike_rentals1 = uci_bike_rentals.copy()\n",
    "new_row = {'id':10886, 'year':2012, 'hour':21, 'season':3, 'holiday':0, 'workingday':1, 'weather':1, 'temp': 30.34, 'atemp':34.850, 'humidity':66, 'windspeed': 7.0015, 'count':381}\n",
    "uci_bike_rentals1 = uci_bike_rentals.append(new_row, ignore_index = True)\n",
    "print(uci_bike_rentals1)"
   ]
  },
  {
   "cell_type": "code",
   "execution_count": 116,
   "id": "18aaca5b",
   "metadata": {},
   "outputs": [
    {
     "name": "stdout",
     "output_type": "stream",
     "text": [
      "(7689, 12) (7689, 12)\n"
     ]
    }
   ],
   "source": [
    "# Remove duplicates - found 1 duplicate\n",
    "drop_duplicates = uci_bike_rentals1.drop_duplicates()\n",
    "print(uci_bike_rentals1.shape, drop_duplicates.shape)"
   ]
  },
  {
   "cell_type": "code",
   "execution_count": 124,
   "id": "9043e4d8",
   "metadata": {},
   "outputs": [
    {
     "name": "stdout",
     "output_type": "stream",
     "text": [
      "         id  year  hour season  holiday  workingday  weather   temp   atemp  \\\n",
      "0         3  2012    23      3        0           0        2  23.78  27.275   \n",
      "1         4  2011     8      3        0           0        1  27.88  31.820   \n",
      "2         5  2012     2    NaN        0           1        1  20.50  24.240   \n",
      "3         7  2011    20      3        0           1        3  25.42  28.790   \n",
      "4         8  2011    17      3        0           1        3  26.24  28.790   \n",
      "...     ...   ...   ...    ...      ...         ...      ...    ...     ...   \n",
      "7684  10882  2012    18    NaN        0           1        1  13.94  15.150   \n",
      "7685  10883  2012     3    NaN        0           1        1   9.02  11.365   \n",
      "7686  10884  2012    15      2        0           0        1  21.32  25.000   \n",
      "7687  10885  2011    19      4        0           1        1  12.30  14.395   \n",
      "7688  10886  2012    21      3        0           1        1  30.34  34.850   \n",
      "\n",
      "      humidity  windspeed  count  \n",
      "0           73    11.0014    133  \n",
      "1           57     0.0000    132  \n",
      "2           59     0.0000     19  \n",
      "3           83    19.9995     58  \n",
      "4           89     0.0000    285  \n",
      "...        ...        ...    ...  \n",
      "7684        42    22.0028    457  \n",
      "7685        51    11.0014      1  \n",
      "7686        19    27.9993    626  \n",
      "7687        45    15.0013    217  \n",
      "7688        66     7.0015    381  \n",
      "\n",
      "[7689 rows x 12 columns]\n"
     ]
    }
   ],
   "source": [
    "# Demonstrate 'fill missing values' - replace Season 1 with NaN value\n",
    "uci_bike_rentals1 = uci_bike_rentals.copy()\n",
    "uci_bike_rentals1.loc[(uci_bike_rentals1['season'] ==1), 'season'] = 'NaN'\n",
    "print(uci_bike_rentals1)"
   ]
  },
  {
   "cell_type": "code",
   "execution_count": 125,
   "id": "9d59687d",
   "metadata": {},
   "outputs": [
    {
     "name": "stdout",
     "output_type": "stream",
     "text": [
      "         id  year  hour season  holiday  workingday  weather   temp   atemp  \\\n",
      "0         3  2012    23      3        0           0        2  23.78  27.275   \n",
      "1         4  2011     8      3        0           0        1  27.88  31.820   \n",
      "2         5  2012     2    NaN        0           1        1  20.50  24.240   \n",
      "3         7  2011    20      3        0           1        3  25.42  28.790   \n",
      "4         8  2011    17      3        0           1        3  26.24  28.790   \n",
      "...     ...   ...   ...    ...      ...         ...      ...    ...     ...   \n",
      "7684  10882  2012    18    NaN        0           1        1  13.94  15.150   \n",
      "7685  10883  2012     3    NaN        0           1        1   9.02  11.365   \n",
      "7686  10884  2012    15      2        0           0        1  21.32  25.000   \n",
      "7687  10885  2011    19      4        0           1        1  12.30  14.395   \n",
      "7688  10886  2012    21      3        0           1        1  30.34  34.850   \n",
      "\n",
      "      humidity  windspeed  count  \n",
      "0           73    11.0014    133  \n",
      "1           57     0.0000    132  \n",
      "2           59     0.0000     19  \n",
      "3           83    19.9995     58  \n",
      "4           89     0.0000    285  \n",
      "...        ...        ...    ...  \n",
      "7684        42    22.0028    457  \n",
      "7685        51    11.0014      1  \n",
      "7686        19    27.9993    626  \n",
      "7687        45    15.0013    217  \n",
      "7688        66     7.0015    381  \n",
      "\n",
      "[7689 rows x 12 columns]\n"
     ]
    }
   ],
   "source": [
    "# Replace NaN values\n",
    "cleaned_data = uci_bike_rentals1.fillna('')\n",
    "print(cleaned_data)"
   ]
  },
  {
   "cell_type": "code",
   "execution_count": 182,
   "id": "9cd4fe48",
   "metadata": {},
   "outputs": [
    {
     "name": "stdout",
     "output_type": "stream",
     "text": [
      "   id  year  hour  season  holiday  workingday\n",
      "0   3  2012    23       3        0           0\n",
      "1   4  2011     8       3        0           0\n",
      "2   5  2012     2       1        0           1\n",
      "3   7  2011    20       3        0           1\n",
      "4   8  2011    17       3        0           1\n",
      "5   9  2011    19       2        0           1\n",
      "6  10  2012    23       2        0           1\n",
      "7  11  2011    22       3        0           1\n",
      "8  12  2011    14       3        0           1\n",
      "9  13  2011    13       1        0           0\n"
     ]
    }
   ],
   "source": [
    "# Demonstrate Merge data \n",
    "# Step 1 - slice original dataset dataframe to only show the first 10 rows/and columns that exclude weather attributes\n",
    "# Create new dataframe from above - year_bike\n",
    "year_bike = uci_bike_rentals.iloc[0:10,0:6]\n",
    "year_bike1 = pd.DataFrame(year_bike)\n",
    "print(year_bike1)"
   ]
  },
  {
   "cell_type": "code",
   "execution_count": 187,
   "id": "761dc152",
   "metadata": {},
   "outputs": [
    {
     "name": "stdout",
     "output_type": "stream",
     "text": [
      "   weather   temp   atemp  humidity  windspeed  count\n",
      "0        2  23.78  27.275        73    11.0014    133\n",
      "1        1  27.88  31.820        57     0.0000    132\n",
      "2        1  20.50  24.240        59     0.0000     19\n",
      "3        3  25.42  28.790        83    19.9995     58\n",
      "4        3  26.24  28.790        89     0.0000    285\n",
      "5        2  34.44  37.120        39    22.0028    326\n",
      "6        2  23.78  27.275        78     7.0015     75\n",
      "7        1  25.42  27.275        94     0.0000    160\n",
      "8        1  35.26  41.665        53    19.0012    134\n",
      "9        2  18.86  22.725        72    19.9995     94\n"
     ]
    }
   ],
   "source": [
    "#Demonstrate Merge data\n",
    "#Step 2 - slice original dataset dataframe to only show the first 10 rows/and columns that include weather attributes\n",
    "#Create new dataframe from above - weather_bike\n",
    "weather_bike = uci_bike_rentals.iloc[0:10,6:12]\n",
    "weather_bike1 = pd.DataFrame(weather_bike) \n",
    "print(weather_bike1)\n"
   ]
  },
  {
   "cell_type": "code",
   "execution_count": 190,
   "id": "3cc98d5a",
   "metadata": {},
   "outputs": [
    {
     "name": "stdout",
     "output_type": "stream",
     "text": [
      "   id  year  hour  season  holiday  workingday  weather   temp  atemp  \\\n",
      "0   3  2012    23       3        0           0        3  25.42  28.79   \n",
      "1   3  2012    23       3        0           0        3  26.24  28.79   \n",
      "\n",
      "   humidity  windspeed  count  \n",
      "0        83    19.9995     58  \n",
      "1        89     0.0000    285  \n"
     ]
    }
   ],
   "source": [
    "# Demonstrate Merge data \n",
    "# Step 3 - merge data frames with different column names\n",
    "merged_bikes = year_bike1.merge(weather_bike1,left_on ='id', right_on ='weather')\n",
    "print(merged_bikes)"
   ]
  },
  {
   "cell_type": "code",
   "execution_count": null,
   "id": "218b6a16",
   "metadata": {},
   "outputs": [],
   "source": []
  }
 ],
 "metadata": {
  "kernelspec": {
   "display_name": "Python 3",
   "language": "python",
   "name": "python3"
  },
  "language_info": {
   "codemirror_mode": {
    "name": "ipython",
    "version": 3
   },
   "file_extension": ".py",
   "mimetype": "text/x-python",
   "name": "python",
   "nbconvert_exporter": "python",
   "pygments_lexer": "ipython3",
   "version": "3.8.8"
  }
 },
 "nbformat": 4,
 "nbformat_minor": 5
}
